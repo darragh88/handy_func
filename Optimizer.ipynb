{
 "cells": [
  {
   "cell_type": "markdown",
   "id": "70471b2e",
   "metadata": {},
   "source": [
    "### Optimization "
   ]
  },
  {
   "cell_type": "code",
   "execution_count": null,
   "id": "1ceb19ee",
   "metadata": {},
   "outputs": [],
   "source": [
    "import optuna\n",
    "\n",
    "def objective(trial):\n",
    "    # Suggest hyperparameters\n",
    "    learning_rate = trial.suggest_loguniform('learning_rate', 1e-4, 1e-1)\n",
    "    hidden_size = trial.suggest_int('hidden_size', 32, 256)\n",
    "    \n",
    "    # Build your custom model\n",
    "    model = MyCustomModel(hidden_size=hidden_size, learning_rate=learning_rate)\n",
    "    \n",
    "    # Train and evaluate (you define this)\n",
    "    score = train_and_evaluate(model)\n",
    "    \n",
    "    return score  # Optuna minimizes or maximizes this\n",
    "\n",
    "study = optuna.create_study(direction='maximize')\n",
    "study.optimize(objective, n_trials=100)\n"
   ]
  },
  {
   "cell_type": "code",
   "execution_count": null,
   "id": "57edc834",
   "metadata": {},
   "outputs": [],
   "source": [
    "print(f\"Best value: {study.best_value}\")\n",
    "print(\"Best hyperparameters:\")\n",
    "for key, value in study.best_trial.params.items():\n",
    "    print(f\"  {key}: {value}\")"
   ]
  },
  {
   "cell_type": "code",
   "execution_count": null,
   "id": "3f40594b",
   "metadata": {},
   "outputs": [],
   "source": [
    "from optuna.visualization import plot_optimization_history, plot_param_importances\n",
    "\n",
    "plot_optimization_history(study).show()\n",
    "plot_param_importances(study).show()\n"
   ]
  },
  {
   "cell_type": "code",
   "execution_count": null,
   "id": "1f315775",
   "metadata": {},
   "outputs": [],
   "source": [
    "# More visualization \n",
    "from optuna.visualization import (\n",
    "    plot_optimization_history,\n",
    "    plot_param_importances,\n",
    "    plot_slice,\n",
    "    plot_parallel_coordinate,\n",
    "    plot_contour,\n",
    "    plot_edf\n",
    ")\n",
    "\n",
    "plot_optimization_history(study).show()\n",
    "plot_param_importances(study).show()\n",
    "plot_slice(study).show()\n",
    "plot_parallel_coordinate(study).show()\n",
    "plot_contour(study).show()\n",
    "plot_edf(study).show()"
   ]
  }
 ],
 "metadata": {
  "kernelspec": {
   "display_name": "Python 3 (ipykernel)",
   "language": "python",
   "name": "python3"
  },
  "language_info": {
   "codemirror_mode": {
    "name": "ipython",
    "version": 3
   },
   "file_extension": ".py",
   "mimetype": "text/x-python",
   "name": "python",
   "nbconvert_exporter": "python",
   "pygments_lexer": "ipython3",
   "version": "3.11.5"
  }
 },
 "nbformat": 4,
 "nbformat_minor": 5
}
